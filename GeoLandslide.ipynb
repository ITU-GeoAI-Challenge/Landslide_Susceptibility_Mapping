{
  "cells": [
    {
      "cell_type": "code",
      "execution_count": null,
      "metadata": {
        "id": "-6d6UK9eiV8c"
      },
      "outputs": [],
      "source": [
        "\n",
        "#importing relevant libraries\n",
        "from sklearn.model_selection import cross_val_score\n",
        "from sklearn.metrics import accuracy_score\n",
        "from sklearn.model_selection import RandomizedSearchCV\n",
        "from sklearn.model_selection import train_test_split\n",
        "from sklearn.pipeline import Pipeline\n",
        "from sklearn.preprocessing import StandardScaler\n",
        "from sklearn.feature_selection import SelectKBest\n",
        "from sklearn.ensemble import RandomForestClassifier\n",
        "import pandas as pd\n",
        "import numpy as np\n",
        "from imblearn.over_sampling import SMOTE\n",
        "import geopandas as gpd"
      ]
    },
    {
      "cell_type": "code",
      "source": [
        "np.random.seed(5)"
      ],
      "metadata": {
        "id": "m5C96nqw4Z_-"
      },
      "execution_count": null,
      "outputs": []
    },
    {
      "cell_type": "code",
      "execution_count": null,
      "metadata": {
        "id": "RtBDWcjsxc7S"
      },
      "outputs": [],
      "source": [
        "\n",
        "#variable storing the path of the directory containing all the data files\n",
        "data_path = ''"
      ]
    },
    {
      "cell_type": "code",
      "execution_count": null,
      "metadata": {
        "id": "2xK1aHz8lqJo"
      },
      "outputs": [],
      "source": [
        "\n",
        "#reading the data files\n",
        "train = gpd.read_file(data_path+'Train.gpkg')\n",
        "gfaults = gpd.read_file(data_path+'geological_faults.gpkg')\n",
        "\n",
        "lulc = gpd.read_file(data_path+'land_use_land_cover.gpkg')\n",
        "test = gpd.read_file(data_path+'Test.gpkg')"
      ]
    },
    {
      "cell_type": "code",
      "execution_count": null,
      "metadata": {
        "id": "u8vnFRcDdzdA"
      },
      "outputs": [],
      "source": [
        "\n",
        "#Extracting the area of the train geometry\n",
        "train['area'] = train.geometry.area"
      ]
    },
    {
      "cell_type": "code",
      "execution_count": null,
      "metadata": {
        "id": "4FJ585T0eN_6"
      },
      "outputs": [],
      "source": [
        "\n",
        "#Considering the characteristics of the area of land 116 units surrounding the test points\n",
        "test['area'] = test.geometry.buffer(116).area"
      ]
    },
    {
      "cell_type": "code",
      "execution_count": null,
      "metadata": {
        "id": "LxSL_Z3TewlG"
      },
      "outputs": [],
      "source": [
        "\n",
        "#converting the test point geometries to polygons representing areas around the test points\n",
        "test.geometry = test.geometry.buffer(116)"
      ]
    },
    {
      "cell_type": "code",
      "execution_count": null,
      "metadata": {
        "id": "vFCopoUrhkv4",
        "colab": {
          "base_uri": "https://localhost:8080/",
          "height": 1000
        },
        "outputId": "1bddad8a-161b-4bff-e36a-d53ed8ce1833"
      },
      "outputs": [
        {
          "output_type": "execute_result",
          "data": {
            "text/plain": [
              "              ID                                           geometry  \\\n",
              "0      ID_000001  POLYGON ((541978.336 5103652.266, 541977.777 5...   \n",
              "1      ID_000002  POLYGON ((566572.496 5131798.978, 566571.937 5...   \n",
              "2      ID_000003  POLYGON ((584714.972 5109016.391, 584714.413 5...   \n",
              "3      ID_000004  POLYGON ((542530.162 5125941.301, 542529.604 5...   \n",
              "4      ID_000005  POLYGON ((532215.144 5133370.588, 532214.585 5...   \n",
              "...          ...                                                ...   \n",
              "39995  ID_039996  POLYGON ((605625.423 5146469.307, 605624.864 5...   \n",
              "39996  ID_039997  POLYGON ((526931.199 5147832.968, 526930.640 5...   \n",
              "39997  ID_039998  POLYGON ((526989.190 5147470.852, 526988.631 5...   \n",
              "39998  ID_039999  POLYGON ((569623.854 5101121.584, 569623.295 5...   \n",
              "39999  ID_040000  POLYGON ((552139.491 5112456.359, 552138.932 5...   \n",
              "\n",
              "               area  \n",
              "0      42205.396489  \n",
              "1      42205.396489  \n",
              "2      42205.396489  \n",
              "3      42205.396489  \n",
              "4      42205.396489  \n",
              "...             ...  \n",
              "39995  42205.396489  \n",
              "39996  42205.396489  \n",
              "39997  42205.396489  \n",
              "39998  42205.396489  \n",
              "39999  42205.396489  \n",
              "\n",
              "[40000 rows x 3 columns]"
            ],
            "text/html": [
              "\n",
              "  <div id=\"df-165e6049-0cd7-4059-b6ee-06e92735391f\" class=\"colab-df-container\">\n",
              "    <div>\n",
              "<style scoped>\n",
              "    .dataframe tbody tr th:only-of-type {\n",
              "        vertical-align: middle;\n",
              "    }\n",
              "\n",
              "    .dataframe tbody tr th {\n",
              "        vertical-align: top;\n",
              "    }\n",
              "\n",
              "    .dataframe thead th {\n",
              "        text-align: right;\n",
              "    }\n",
              "</style>\n",
              "<table border=\"1\" class=\"dataframe\">\n",
              "  <thead>\n",
              "    <tr style=\"text-align: right;\">\n",
              "      <th></th>\n",
              "      <th>ID</th>\n",
              "      <th>geometry</th>\n",
              "      <th>area</th>\n",
              "    </tr>\n",
              "  </thead>\n",
              "  <tbody>\n",
              "    <tr>\n",
              "      <th>0</th>\n",
              "      <td>ID_000001</td>\n",
              "      <td>POLYGON ((541978.336 5103652.266, 541977.777 5...</td>\n",
              "      <td>42205.396489</td>\n",
              "    </tr>\n",
              "    <tr>\n",
              "      <th>1</th>\n",
              "      <td>ID_000002</td>\n",
              "      <td>POLYGON ((566572.496 5131798.978, 566571.937 5...</td>\n",
              "      <td>42205.396489</td>\n",
              "    </tr>\n",
              "    <tr>\n",
              "      <th>2</th>\n",
              "      <td>ID_000003</td>\n",
              "      <td>POLYGON ((584714.972 5109016.391, 584714.413 5...</td>\n",
              "      <td>42205.396489</td>\n",
              "    </tr>\n",
              "    <tr>\n",
              "      <th>3</th>\n",
              "      <td>ID_000004</td>\n",
              "      <td>POLYGON ((542530.162 5125941.301, 542529.604 5...</td>\n",
              "      <td>42205.396489</td>\n",
              "    </tr>\n",
              "    <tr>\n",
              "      <th>4</th>\n",
              "      <td>ID_000005</td>\n",
              "      <td>POLYGON ((532215.144 5133370.588, 532214.585 5...</td>\n",
              "      <td>42205.396489</td>\n",
              "    </tr>\n",
              "    <tr>\n",
              "      <th>...</th>\n",
              "      <td>...</td>\n",
              "      <td>...</td>\n",
              "      <td>...</td>\n",
              "    </tr>\n",
              "    <tr>\n",
              "      <th>39995</th>\n",
              "      <td>ID_039996</td>\n",
              "      <td>POLYGON ((605625.423 5146469.307, 605624.864 5...</td>\n",
              "      <td>42205.396489</td>\n",
              "    </tr>\n",
              "    <tr>\n",
              "      <th>39996</th>\n",
              "      <td>ID_039997</td>\n",
              "      <td>POLYGON ((526931.199 5147832.968, 526930.640 5...</td>\n",
              "      <td>42205.396489</td>\n",
              "    </tr>\n",
              "    <tr>\n",
              "      <th>39997</th>\n",
              "      <td>ID_039998</td>\n",
              "      <td>POLYGON ((526989.190 5147470.852, 526988.631 5...</td>\n",
              "      <td>42205.396489</td>\n",
              "    </tr>\n",
              "    <tr>\n",
              "      <th>39998</th>\n",
              "      <td>ID_039999</td>\n",
              "      <td>POLYGON ((569623.854 5101121.584, 569623.295 5...</td>\n",
              "      <td>42205.396489</td>\n",
              "    </tr>\n",
              "    <tr>\n",
              "      <th>39999</th>\n",
              "      <td>ID_040000</td>\n",
              "      <td>POLYGON ((552139.491 5112456.359, 552138.932 5...</td>\n",
              "      <td>42205.396489</td>\n",
              "    </tr>\n",
              "  </tbody>\n",
              "</table>\n",
              "<p>40000 rows × 3 columns</p>\n",
              "</div>\n",
              "    <div class=\"colab-df-buttons\">\n",
              "\n",
              "  <div class=\"colab-df-container\">\n",
              "    <button class=\"colab-df-convert\" onclick=\"convertToInteractive('df-165e6049-0cd7-4059-b6ee-06e92735391f')\"\n",
              "            title=\"Convert this dataframe to an interactive table.\"\n",
              "            style=\"display:none;\">\n",
              "\n",
              "  <svg xmlns=\"http://www.w3.org/2000/svg\" height=\"24px\" viewBox=\"0 -960 960 960\">\n",
              "    <path d=\"M120-120v-720h720v720H120Zm60-500h600v-160H180v160Zm220 220h160v-160H400v160Zm0 220h160v-160H400v160ZM180-400h160v-160H180v160Zm440 0h160v-160H620v160ZM180-180h160v-160H180v160Zm440 0h160v-160H620v160Z\"/>\n",
              "  </svg>\n",
              "    </button>\n",
              "\n",
              "  <style>\n",
              "    .colab-df-container {\n",
              "      display:flex;\n",
              "      gap: 12px;\n",
              "    }\n",
              "\n",
              "    .colab-df-convert {\n",
              "      background-color: #E8F0FE;\n",
              "      border: none;\n",
              "      border-radius: 50%;\n",
              "      cursor: pointer;\n",
              "      display: none;\n",
              "      fill: #1967D2;\n",
              "      height: 32px;\n",
              "      padding: 0 0 0 0;\n",
              "      width: 32px;\n",
              "    }\n",
              "\n",
              "    .colab-df-convert:hover {\n",
              "      background-color: #E2EBFA;\n",
              "      box-shadow: 0px 1px 2px rgba(60, 64, 67, 0.3), 0px 1px 3px 1px rgba(60, 64, 67, 0.15);\n",
              "      fill: #174EA6;\n",
              "    }\n",
              "\n",
              "    .colab-df-buttons div {\n",
              "      margin-bottom: 4px;\n",
              "    }\n",
              "\n",
              "    [theme=dark] .colab-df-convert {\n",
              "      background-color: #3B4455;\n",
              "      fill: #D2E3FC;\n",
              "    }\n",
              "\n",
              "    [theme=dark] .colab-df-convert:hover {\n",
              "      background-color: #434B5C;\n",
              "      box-shadow: 0px 1px 3px 1px rgba(0, 0, 0, 0.15);\n",
              "      filter: drop-shadow(0px 1px 2px rgba(0, 0, 0, 0.3));\n",
              "      fill: #FFFFFF;\n",
              "    }\n",
              "  </style>\n",
              "\n",
              "    <script>\n",
              "      const buttonEl =\n",
              "        document.querySelector('#df-165e6049-0cd7-4059-b6ee-06e92735391f button.colab-df-convert');\n",
              "      buttonEl.style.display =\n",
              "        google.colab.kernel.accessAllowed ? 'block' : 'none';\n",
              "\n",
              "      async function convertToInteractive(key) {\n",
              "        const element = document.querySelector('#df-165e6049-0cd7-4059-b6ee-06e92735391f');\n",
              "        const dataTable =\n",
              "          await google.colab.kernel.invokeFunction('convertToInteractive',\n",
              "                                                    [key], {});\n",
              "        if (!dataTable) return;\n",
              "\n",
              "        const docLinkHtml = 'Like what you see? Visit the ' +\n",
              "          '<a target=\"_blank\" href=https://colab.research.google.com/notebooks/data_table.ipynb>data table notebook</a>'\n",
              "          + ' to learn more about interactive tables.';\n",
              "        element.innerHTML = '';\n",
              "        dataTable['output_type'] = 'display_data';\n",
              "        await google.colab.output.renderOutput(dataTable, element);\n",
              "        const docLink = document.createElement('div');\n",
              "        docLink.innerHTML = docLinkHtml;\n",
              "        element.appendChild(docLink);\n",
              "      }\n",
              "    </script>\n",
              "  </div>\n",
              "\n",
              "\n",
              "<div id=\"df-070460a4-9561-46a8-8aad-40e439b7978b\">\n",
              "  <button class=\"colab-df-quickchart\" onclick=\"quickchart('df-070460a4-9561-46a8-8aad-40e439b7978b')\"\n",
              "            title=\"Suggest charts.\"\n",
              "            style=\"display:none;\">\n",
              "\n",
              "<svg xmlns=\"http://www.w3.org/2000/svg\" height=\"24px\"viewBox=\"0 0 24 24\"\n",
              "     width=\"24px\">\n",
              "    <g>\n",
              "        <path d=\"M19 3H5c-1.1 0-2 .9-2 2v14c0 1.1.9 2 2 2h14c1.1 0 2-.9 2-2V5c0-1.1-.9-2-2-2zM9 17H7v-7h2v7zm4 0h-2V7h2v10zm4 0h-2v-4h2v4z\"/>\n",
              "    </g>\n",
              "</svg>\n",
              "  </button>\n",
              "\n",
              "<style>\n",
              "  .colab-df-quickchart {\n",
              "      --bg-color: #E8F0FE;\n",
              "      --fill-color: #1967D2;\n",
              "      --hover-bg-color: #E2EBFA;\n",
              "      --hover-fill-color: #174EA6;\n",
              "      --disabled-fill-color: #AAA;\n",
              "      --disabled-bg-color: #DDD;\n",
              "  }\n",
              "\n",
              "  [theme=dark] .colab-df-quickchart {\n",
              "      --bg-color: #3B4455;\n",
              "      --fill-color: #D2E3FC;\n",
              "      --hover-bg-color: #434B5C;\n",
              "      --hover-fill-color: #FFFFFF;\n",
              "      --disabled-bg-color: #3B4455;\n",
              "      --disabled-fill-color: #666;\n",
              "  }\n",
              "\n",
              "  .colab-df-quickchart {\n",
              "    background-color: var(--bg-color);\n",
              "    border: none;\n",
              "    border-radius: 50%;\n",
              "    cursor: pointer;\n",
              "    display: none;\n",
              "    fill: var(--fill-color);\n",
              "    height: 32px;\n",
              "    padding: 0;\n",
              "    width: 32px;\n",
              "  }\n",
              "\n",
              "  .colab-df-quickchart:hover {\n",
              "    background-color: var(--hover-bg-color);\n",
              "    box-shadow: 0 1px 2px rgba(60, 64, 67, 0.3), 0 1px 3px 1px rgba(60, 64, 67, 0.15);\n",
              "    fill: var(--button-hover-fill-color);\n",
              "  }\n",
              "\n",
              "  .colab-df-quickchart-complete:disabled,\n",
              "  .colab-df-quickchart-complete:disabled:hover {\n",
              "    background-color: var(--disabled-bg-color);\n",
              "    fill: var(--disabled-fill-color);\n",
              "    box-shadow: none;\n",
              "  }\n",
              "\n",
              "  .colab-df-spinner {\n",
              "    border: 2px solid var(--fill-color);\n",
              "    border-color: transparent;\n",
              "    border-bottom-color: var(--fill-color);\n",
              "    animation:\n",
              "      spin 1s steps(1) infinite;\n",
              "  }\n",
              "\n",
              "  @keyframes spin {\n",
              "    0% {\n",
              "      border-color: transparent;\n",
              "      border-bottom-color: var(--fill-color);\n",
              "      border-left-color: var(--fill-color);\n",
              "    }\n",
              "    20% {\n",
              "      border-color: transparent;\n",
              "      border-left-color: var(--fill-color);\n",
              "      border-top-color: var(--fill-color);\n",
              "    }\n",
              "    30% {\n",
              "      border-color: transparent;\n",
              "      border-left-color: var(--fill-color);\n",
              "      border-top-color: var(--fill-color);\n",
              "      border-right-color: var(--fill-color);\n",
              "    }\n",
              "    40% {\n",
              "      border-color: transparent;\n",
              "      border-right-color: var(--fill-color);\n",
              "      border-top-color: var(--fill-color);\n",
              "    }\n",
              "    60% {\n",
              "      border-color: transparent;\n",
              "      border-right-color: var(--fill-color);\n",
              "    }\n",
              "    80% {\n",
              "      border-color: transparent;\n",
              "      border-right-color: var(--fill-color);\n",
              "      border-bottom-color: var(--fill-color);\n",
              "    }\n",
              "    90% {\n",
              "      border-color: transparent;\n",
              "      border-bottom-color: var(--fill-color);\n",
              "    }\n",
              "  }\n",
              "</style>\n",
              "\n",
              "  <script>\n",
              "    async function quickchart(key) {\n",
              "      const quickchartButtonEl =\n",
              "        document.querySelector('#' + key + ' button');\n",
              "      quickchartButtonEl.disabled = true;  // To prevent multiple clicks.\n",
              "      quickchartButtonEl.classList.add('colab-df-spinner');\n",
              "      try {\n",
              "        const charts = await google.colab.kernel.invokeFunction(\n",
              "            'suggestCharts', [key], {});\n",
              "      } catch (error) {\n",
              "        console.error('Error during call to suggestCharts:', error);\n",
              "      }\n",
              "      quickchartButtonEl.classList.remove('colab-df-spinner');\n",
              "      quickchartButtonEl.classList.add('colab-df-quickchart-complete');\n",
              "    }\n",
              "    (() => {\n",
              "      let quickchartButtonEl =\n",
              "        document.querySelector('#df-070460a4-9561-46a8-8aad-40e439b7978b button');\n",
              "      quickchartButtonEl.style.display =\n",
              "        google.colab.kernel.accessAllowed ? 'block' : 'none';\n",
              "    })();\n",
              "  </script>\n",
              "</div>\n",
              "    </div>\n",
              "  </div>\n"
            ]
          },
          "metadata": {},
          "execution_count": 52
        }
      ],
      "source": [
        "\n",
        "#viewing the test dataframe\n",
        "test"
      ]
    },
    {
      "cell_type": "code",
      "execution_count": null,
      "metadata": {
        "id": "b1Edh30dLTWO"
      },
      "outputs": [],
      "source": [
        "\n",
        "#extracting details of the geological faults that intersect with the test areas\n",
        "test_gfaults = gpd.sjoin(test,gfaults,how='left')"
      ]
    },
    {
      "cell_type": "code",
      "execution_count": null,
      "metadata": {
        "id": "KC2bTTSZQf4H"
      },
      "outputs": [],
      "source": [
        "\n",
        "\n",
        "#extracting details of the geological faults that intersect with the train areas\n",
        "train_gfaults = gpd.sjoin(train,gfaults,how='left')"
      ]
    },
    {
      "cell_type": "code",
      "execution_count": null,
      "metadata": {
        "id": "T5he_x0y9jEH"
      },
      "outputs": [],
      "source": [
        "\n",
        "#calculating the areas of the land-use-land-cover geometries\n",
        "lulc['lulc_area'] = lulc.geometry.area"
      ]
    },
    {
      "cell_type": "code",
      "execution_count": null,
      "metadata": {
        "id": "FmSoV2Ar9rgh"
      },
      "outputs": [],
      "source": [
        "\n",
        "\n",
        "#extracting details of the land-use-land-cover geometries that intersect with the train areas\n",
        "train_lulc = gpd.sjoin(train,lulc,how='left')"
      ]
    },
    {
      "cell_type": "code",
      "execution_count": null,
      "metadata": {
        "id": "Njr_LDRaSqEJ"
      },
      "outputs": [],
      "source": [
        "\n",
        "#extracting details of the land-use-land-cover geometries that intersect with the test areas\n",
        "test_lulc = gpd.sjoin(test,lulc,how='left')"
      ]
    },
    {
      "cell_type": "code",
      "execution_count": null,
      "metadata": {
        "id": "nBFrnSRjiFNK"
      },
      "outputs": [],
      "source": []
    },
    {
      "cell_type": "code",
      "execution_count": null,
      "metadata": {
        "id": "Sa17-EG7YeUb"
      },
      "outputs": [],
      "source": [
        "\n",
        "#encoding the categorical columns of the dataframe containing details of both train and geological faults data\n",
        "traingfaults_tipoel = pd.get_dummies(train_gfaults['TIPO_EL'],prefix='tipoel')\n",
        "traingfaults_dtipoel = pd.get_dummies(train_gfaults['DTIPO_EL'],prefix='dtipoel')\n",
        "traingfaults_tipofag = pd.get_dummies(train_gfaults['TIPO_FAGLI'],prefix='tipofag')\n",
        "traingfaults_dtipofag = pd.get_dummies(train_gfaults['DTIPO_FAGL'],prefix='dtipofag')"
      ]
    },
    {
      "cell_type": "code",
      "execution_count": null,
      "metadata": {
        "id": "J2ooCT5ZZ8vM"
      },
      "outputs": [],
      "source": [
        "\n",
        "\n",
        "#encoding the categorical columns of the dataframe containing details of both test and geological faults data\n",
        "testgfaults_tipoel = pd.get_dummies(test_gfaults['TIPO_EL'],prefix='tipoel')\n",
        "testgfaults_dtipoel = pd.get_dummies(test_gfaults['DTIPO_EL'],prefix='dtipoel')\n",
        "testgfaults_tipofag = pd.get_dummies(test_gfaults['TIPO_FAGLI'],prefix='tipofag')\n",
        "testgfaults_dtipofag = pd.get_dummies(test_gfaults['DTIPO_FAGL'],prefix='dtipofag')"
      ]
    },
    {
      "cell_type": "code",
      "execution_count": null,
      "metadata": {
        "id": "vVAioVh_7by8"
      },
      "outputs": [],
      "source": [
        "\n",
        "\n",
        "#encoding the categorical columns of the dataframe containing details of both test and land-use-land-cover data\n",
        "test_lulc_codice = pd.get_dummies(test_lulc['2-CODICE'],prefix='cod')"
      ]
    },
    {
      "cell_type": "code",
      "execution_count": null,
      "metadata": {
        "id": "vTnrvs6IiIbF"
      },
      "outputs": [],
      "source": [
        "\n",
        "#encoding the categorical columns of the dataframe containing details of both train and land-use-land-cover data\n",
        "train_lulc_codice = pd.get_dummies(train_lulc['2-CODICE'],prefix='cod')"
      ]
    },
    {
      "cell_type": "code",
      "execution_count": null,
      "metadata": {
        "id": "PRS2nJIZbwe8"
      },
      "outputs": [],
      "source": [
        "\n",
        "#adding the encoded columns to the dataframe containing the rest of the test and geological faults data\n",
        "full_testgfault=pd.concat([test_gfaults,testgfaults_tipoel,testgfaults_dtipoel,testgfaults_tipofag,testgfaults_dtipofag],axis=1)"
      ]
    },
    {
      "cell_type": "code",
      "execution_count": null,
      "metadata": {
        "id": "-R9SU2SNbwMJ"
      },
      "outputs": [],
      "source": [
        "\n",
        "#adding the encoded columns to the dataframe containing the rest of the train and geological faults data\n",
        "full_traingfault=pd.concat([train_gfaults,traingfaults_tipoel,traingfaults_dtipoel,traingfaults_tipofag,traingfaults_dtipofag],axis=1)"
      ]
    },
    {
      "cell_type": "code",
      "execution_count": null,
      "metadata": {
        "id": "EAncXSTg8J4P"
      },
      "outputs": [],
      "source": [
        "\n",
        "#adding the encoded columns to the dataframe containing the rest of the test and land-use-land-cover data\n",
        "full_testlulc = pd.concat([test_lulc,test_lulc_codice],axis=1)"
      ]
    },
    {
      "cell_type": "code",
      "execution_count": null,
      "metadata": {
        "id": "Xvaq5zOClKoc"
      },
      "outputs": [],
      "source": [
        "\n",
        "#adding the encoded columns to the dataframe containing the rest of the train and land-use-land-cover data\n",
        "full_trainlulc = pd.concat([train_lulc,train_lulc_codice],axis=1)"
      ]
    },
    {
      "cell_type": "code",
      "execution_count": null,
      "metadata": {
        "id": "vXy1gUb5nD1H"
      },
      "outputs": [],
      "source": [
        "\n",
        "#adding the area of each land-use-land-cover type present in a particular train geometry\n",
        "for j in ['31', '23', '32', '33', '22', '11', '21', '41', '51', '12', '14',\n",
        "       '13']:\n",
        "  full_trainlulc[f'area_{j}']= 0\n",
        "\n",
        "for j in ['31', '23', '32', '33', '22', '11', '21', '41', '51', '12', '14',\n",
        "       '13']:\n",
        "  full_trainlulc[f'area_{j}']=np.where(full_trainlulc[f'cod_{j}']==1,full_trainlulc['lulc_area'],full_trainlulc[f'area_{j}'])"
      ]
    },
    {
      "cell_type": "code",
      "execution_count": null,
      "metadata": {
        "id": "ZO_A6F3K8X0v"
      },
      "outputs": [],
      "source": [
        "\n",
        "#adding the area of each land-use-land-cover type present in a particular test geometry\n",
        "\n",
        "for j in ['31', '23', '32', '33', '22', '11', '21', '41', '51', '12', '14',\n",
        "       '13']:\n",
        "  full_testlulc[f'area_{j}']= 0\n",
        "\n",
        "for j in ['31', '23', '32', '33', '22', '11', '21', '41', '51', '12', '14',\n",
        "       '13']:\n",
        "  full_testlulc[f'area_{j}']=np.where(full_testlulc[f'cod_{j}']==1,full_testlulc['lulc_area'],full_testlulc[f'area_{j}'])"
      ]
    },
    {
      "cell_type": "code",
      "execution_count": null,
      "metadata": {
        "id": "Oln2e2_X8eg-"
      },
      "outputs": [],
      "source": []
    },
    {
      "cell_type": "code",
      "execution_count": null,
      "metadata": {
        "id": "FmXHsU0gkGVq"
      },
      "outputs": [],
      "source": []
    },
    {
      "cell_type": "code",
      "execution_count": null,
      "metadata": {
        "id": "wkCnx-JdexmF",
        "colab": {
          "base_uri": "https://localhost:8080/"
        },
        "outputId": "701999c3-e331-4b9c-a350-ebbd5715b2b8"
      },
      "outputs": [
        {
          "output_type": "stream",
          "name": "stderr",
          "text": [
            "<ipython-input-68-1bad45f042f1>:3: FutureWarning: The default value of numeric_only in DataFrameGroupBy.sum is deprecated. In a future version, numeric_only will default to False. Either specify numeric_only or select only columns which should be valid for the function.\n",
            "  set_testgfault = full_testgfault.groupby('ID').sum().reset_index()\n",
            "<ipython-input-68-1bad45f042f1>:4: FutureWarning: The default value of numeric_only in DataFrameGroupBy.sum is deprecated. In a future version, numeric_only will default to False. Either specify numeric_only or select only columns which should be valid for the function.\n",
            "  set_traingfault = full_traingfault.groupby('ID').sum().reset_index()\n"
          ]
        }
      ],
      "source": [
        "\n",
        "#Grouping observations by the 'ID' such that the data of all individual geological faults of a particular train or test geometry will no longer be spread across multiple rows\n",
        "# but be represented by a single row in the dataframe\n",
        "set_testgfault = full_testgfault.groupby('ID').sum().reset_index()\n",
        "set_traingfault = full_traingfault.groupby('ID').sum().reset_index()"
      ]
    },
    {
      "cell_type": "code",
      "execution_count": null,
      "metadata": {
        "id": "_X-vDllK8syI",
        "colab": {
          "base_uri": "https://localhost:8080/"
        },
        "outputId": "a3d0f1d1-d6d1-4ea2-9b76-4ddf9d1fe1c4"
      },
      "outputs": [
        {
          "output_type": "stream",
          "name": "stderr",
          "text": [
            "<ipython-input-69-b54c37770832>:3: FutureWarning: The default value of numeric_only in DataFrameGroupBy.sum is deprecated. In a future version, numeric_only will default to False. Either specify numeric_only or select only columns which should be valid for the function.\n",
            "  set_testlulc = full_testlulc.groupby('ID').sum().reset_index()\n",
            "<ipython-input-69-b54c37770832>:4: FutureWarning: The default value of numeric_only in DataFrameGroupBy.sum is deprecated. In a future version, numeric_only will default to False. Either specify numeric_only or select only columns which should be valid for the function.\n",
            "  set_trainlulc = full_trainlulc.groupby('ID').sum().reset_index()\n"
          ]
        }
      ],
      "source": [
        "\n",
        "#Grouping observations by the 'ID' such that all individual land-use-land-cover data of a particular train or test geometry will no longer be spread across multiple rows\n",
        "# but be represented by a single row in the dataframe\n",
        "set_testlulc = full_testlulc.groupby('ID').sum().reset_index()\n",
        "set_trainlulc = full_trainlulc.groupby('ID').sum().reset_index()"
      ]
    },
    {
      "cell_type": "code",
      "execution_count": null,
      "metadata": {
        "id": "pwBwdu9Di7qH"
      },
      "outputs": [],
      "source": [
        "\n",
        "#combining land-use-land-cover and geological faults data into a single dataframe\n",
        "final_test = pd.concat([set_testlulc.drop(['index_right','ID','area'],axis=1),set_testgfault.drop('index_right',axis=1)],axis=1)\n",
        "final_train = pd.concat([set_trainlulc.drop(['ID','Target','index_right','area'],axis=1),set_traingfault.drop('index_right',axis=1)],axis=1)"
      ]
    },
    {
      "cell_type": "code",
      "execution_count": null,
      "metadata": {
        "id": "7THkU7tniuc0"
      },
      "outputs": [],
      "source": [
        "\n",
        "#The 'area' values got summed as a result of the groupby operation so this cell replaces it with the correct values from the train and test dataframe\n",
        "final_train['area'] = train['area']\n",
        "final_test['area'] = test['area']"
      ]
    },
    {
      "cell_type": "code",
      "execution_count": null,
      "metadata": {
        "id": "1MBwcf9b890g"
      },
      "outputs": [],
      "source": [
        "##The 'target' values got summed as a result of the groupby operation so this cell replaces it with the correct values from the train dataframe\n",
        "final_train['Target'] = train['Target']"
      ]
    },
    {
      "cell_type": "code",
      "execution_count": null,
      "metadata": {
        "id": "B6QKDlRyXJhG"
      },
      "outputs": [],
      "source": [
        "#Separating target and features\n",
        "X = final_train.drop(['ID','Target'],axis=1)\n",
        "y = final_train['Target']"
      ]
    },
    {
      "cell_type": "code",
      "execution_count": null,
      "metadata": {
        "id": "bpYbyEmvXxHq"
      },
      "outputs": [],
      "source": []
    },
    {
      "cell_type": "code",
      "execution_count": null,
      "metadata": {
        "id": "cu-RdJ60Xe_e"
      },
      "outputs": [],
      "source": [
        "\n",
        "#Splitting train data into train and validation sets\n",
        "X_train, X_test, y_train,y_test = train_test_split(X,y,test_size=0.2,stratify=y,random_state=5)"
      ]
    },
    {
      "cell_type": "code",
      "execution_count": null,
      "metadata": {
        "id": "TyqqGmYPXcDL"
      },
      "outputs": [],
      "source": []
    },
    {
      "cell_type": "code",
      "execution_count": null,
      "metadata": {
        "id": "0HkSqJxNwE8T"
      },
      "outputs": [],
      "source": []
    },
    {
      "cell_type": "code",
      "execution_count": null,
      "metadata": {
        "id": "j_9d5sliwMwd"
      },
      "outputs": [],
      "source": [
        "\n",
        "#creating an instance of SMOTE\n",
        "smt = SMOTE(random_state=5)"
      ]
    },
    {
      "cell_type": "code",
      "execution_count": null,
      "metadata": {
        "id": "x46wqgDLwgXs"
      },
      "outputs": [],
      "source": [
        "\n",
        "#resampling to introduce balance into the target distribution\n",
        "bX,by = smt.fit_resample(X_train,y_train)"
      ]
    },
    {
      "cell_type": "code",
      "execution_count": null,
      "metadata": {
        "id": "W4Tpl_6NqYXm"
      },
      "outputs": [],
      "source": []
    },
    {
      "cell_type": "code",
      "execution_count": null,
      "metadata": {
        "id": "3aMh_8nSm15G"
      },
      "outputs": [],
      "source": [
        "\n",
        "#defining a space of hyperparameter for tuning the model\n",
        "from scipy.stats import randint, uniform\n",
        "\n",
        "# Define the parameter distribution space for RandomForestClassifier\n",
        "param_dist = {\n",
        "    'classifier__n_estimators': randint(30, 501),  # Values between 50 and 500\n",
        "    'classifier__max_depth': [None] + list(randint(1, 51).rvs(15)),  # Include 'None' for no limit\n",
        "    'classifier__min_samples_split': randint(2, 31),  # Values between 2 and 20\n",
        "    'classifier__min_samples_leaf': randint(1, 11),  # Values between 1 and 10\n",
        "    'classifier__max_features': uniform(0.1, 0.9),  # Values between 0.1 and 1.0 for feature fraction\n",
        "    'classifier__bootstrap': [True, False],  # True or False for bootstrapping\n",
        "    'feature_selection__k': randint(5, 38),  # Values between 800 and 1500\n",
        "}"
      ]
    },
    {
      "cell_type": "code",
      "execution_count": null,
      "metadata": {
        "id": "IHRn5DQg82wj"
      },
      "outputs": [],
      "source": []
    },
    {
      "cell_type": "code",
      "execution_count": null,
      "metadata": {
        "id": "NxVbdwPQw--2"
      },
      "outputs": [],
      "source": [
        "#creating a model to scale data, select best features and fit a RandomForestClassifier model\n",
        "pipe = Pipeline([\n",
        "        ('scaler', StandardScaler()),\n",
        "        ('feature_selection', SelectKBest(k=33)),\n",
        "        ('classifier', RandomForestClassifier(\n",
        "          n_jobs=-1,\n",
        "\n",
        "          random_state=2,\n",
        "        ))\n",
        "    ])\n",
        "\n",
        "search = RandomizedSearchCV(pipe,param_dist,cv=10,error_score='raise',random_state=3,n_iter=30)"
      ]
    },
    {
      "cell_type": "code",
      "execution_count": null,
      "metadata": {
        "id": "HjLzhvdAx3iT",
        "colab": {
          "base_uri": "https://localhost:8080/",
          "height": 185
        },
        "outputId": "c52375fd-7f9a-4148-f2bf-d8bc6500c8bd"
      },
      "outputs": [
        {
          "output_type": "execute_result",
          "data": {
            "text/plain": [
              "RandomizedSearchCV(cv=10, error_score='raise',\n",
              "                   estimator=Pipeline(steps=[('scaler', StandardScaler()),\n",
              "                                             ('feature_selection',\n",
              "                                              SelectKBest(k=33)),\n",
              "                                             ('classifier',\n",
              "                                              RandomForestClassifier(n_jobs=-1,\n",
              "                                                                     random_state=2))]),\n",
              "                   n_iter=30,\n",
              "                   param_distributions={'classifier__bootstrap': [True, False],\n",
              "                                        'classifier__max_depth': [None, 36, 15,\n",
              "                                                                  48, 39, 17,\n",
              "                                                                  10, 9, 37, 40,\n",
              "                                                                  28, 49, 31,\n",
              "                                                                  17, 8, 13],\n",
              "                                        'cl...\n",
              "                                        'classifier__min_samples_leaf': <scipy.stats._distn_infrastructure.rv_discrete_frozen object at 0x7bbd749849d0>,\n",
              "                                        'classifier__min_samples_split': <scipy.stats._distn_infrastructure.rv_discrete_frozen object at 0x7bbd748e9390>,\n",
              "                                        'classifier__n_estimators': <scipy.stats._distn_infrastructure.rv_discrete_frozen object at 0x7bbd748e9c60>,\n",
              "                                        'feature_selection__k': <scipy.stats._distn_infrastructure.rv_discrete_frozen object at 0x7bbd74987220>},\n",
              "                   random_state=3)"
            ],
            "text/html": [
              "<style>#sk-container-id-2 {color: black;background-color: white;}#sk-container-id-2 pre{padding: 0;}#sk-container-id-2 div.sk-toggleable {background-color: white;}#sk-container-id-2 label.sk-toggleable__label {cursor: pointer;display: block;width: 100%;margin-bottom: 0;padding: 0.3em;box-sizing: border-box;text-align: center;}#sk-container-id-2 label.sk-toggleable__label-arrow:before {content: \"▸\";float: left;margin-right: 0.25em;color: #696969;}#sk-container-id-2 label.sk-toggleable__label-arrow:hover:before {color: black;}#sk-container-id-2 div.sk-estimator:hover label.sk-toggleable__label-arrow:before {color: black;}#sk-container-id-2 div.sk-toggleable__content {max-height: 0;max-width: 0;overflow: hidden;text-align: left;background-color: #f0f8ff;}#sk-container-id-2 div.sk-toggleable__content pre {margin: 0.2em;color: black;border-radius: 0.25em;background-color: #f0f8ff;}#sk-container-id-2 input.sk-toggleable__control:checked~div.sk-toggleable__content {max-height: 200px;max-width: 100%;overflow: auto;}#sk-container-id-2 input.sk-toggleable__control:checked~label.sk-toggleable__label-arrow:before {content: \"▾\";}#sk-container-id-2 div.sk-estimator input.sk-toggleable__control:checked~label.sk-toggleable__label {background-color: #d4ebff;}#sk-container-id-2 div.sk-label input.sk-toggleable__control:checked~label.sk-toggleable__label {background-color: #d4ebff;}#sk-container-id-2 input.sk-hidden--visually {border: 0;clip: rect(1px 1px 1px 1px);clip: rect(1px, 1px, 1px, 1px);height: 1px;margin: -1px;overflow: hidden;padding: 0;position: absolute;width: 1px;}#sk-container-id-2 div.sk-estimator {font-family: monospace;background-color: #f0f8ff;border: 1px dotted black;border-radius: 0.25em;box-sizing: border-box;margin-bottom: 0.5em;}#sk-container-id-2 div.sk-estimator:hover {background-color: #d4ebff;}#sk-container-id-2 div.sk-parallel-item::after {content: \"\";width: 100%;border-bottom: 1px solid gray;flex-grow: 1;}#sk-container-id-2 div.sk-label:hover label.sk-toggleable__label {background-color: #d4ebff;}#sk-container-id-2 div.sk-serial::before {content: \"\";position: absolute;border-left: 1px solid gray;box-sizing: border-box;top: 0;bottom: 0;left: 50%;z-index: 0;}#sk-container-id-2 div.sk-serial {display: flex;flex-direction: column;align-items: center;background-color: white;padding-right: 0.2em;padding-left: 0.2em;position: relative;}#sk-container-id-2 div.sk-item {position: relative;z-index: 1;}#sk-container-id-2 div.sk-parallel {display: flex;align-items: stretch;justify-content: center;background-color: white;position: relative;}#sk-container-id-2 div.sk-item::before, #sk-container-id-2 div.sk-parallel-item::before {content: \"\";position: absolute;border-left: 1px solid gray;box-sizing: border-box;top: 0;bottom: 0;left: 50%;z-index: -1;}#sk-container-id-2 div.sk-parallel-item {display: flex;flex-direction: column;z-index: 1;position: relative;background-color: white;}#sk-container-id-2 div.sk-parallel-item:first-child::after {align-self: flex-end;width: 50%;}#sk-container-id-2 div.sk-parallel-item:last-child::after {align-self: flex-start;width: 50%;}#sk-container-id-2 div.sk-parallel-item:only-child::after {width: 0;}#sk-container-id-2 div.sk-dashed-wrapped {border: 1px dashed gray;margin: 0 0.4em 0.5em 0.4em;box-sizing: border-box;padding-bottom: 0.4em;background-color: white;}#sk-container-id-2 div.sk-label label {font-family: monospace;font-weight: bold;display: inline-block;line-height: 1.2em;}#sk-container-id-2 div.sk-label-container {text-align: center;}#sk-container-id-2 div.sk-container {/* jupyter's `normalize.less` sets `[hidden] { display: none; }` but bootstrap.min.css set `[hidden] { display: none !important; }` so we also need the `!important` here to be able to override the default hidden behavior on the sphinx rendered scikit-learn.org. See: https://github.com/scikit-learn/scikit-learn/issues/21755 */display: inline-block !important;position: relative;}#sk-container-id-2 div.sk-text-repr-fallback {display: none;}</style><div id=\"sk-container-id-2\" class=\"sk-top-container\"><div class=\"sk-text-repr-fallback\"><pre>RandomizedSearchCV(cv=10, error_score=&#x27;raise&#x27;,\n",
              "                   estimator=Pipeline(steps=[(&#x27;scaler&#x27;, StandardScaler()),\n",
              "                                             (&#x27;feature_selection&#x27;,\n",
              "                                              SelectKBest(k=33)),\n",
              "                                             (&#x27;classifier&#x27;,\n",
              "                                              RandomForestClassifier(n_jobs=-1,\n",
              "                                                                     random_state=2))]),\n",
              "                   n_iter=30,\n",
              "                   param_distributions={&#x27;classifier__bootstrap&#x27;: [True, False],\n",
              "                                        &#x27;classifier__max_depth&#x27;: [None, 36, 15,\n",
              "                                                                  48, 39, 17,\n",
              "                                                                  10, 9, 37, 40,\n",
              "                                                                  28, 49, 31,\n",
              "                                                                  17, 8, 13],\n",
              "                                        &#x27;cl...\n",
              "                                        &#x27;classifier__min_samples_leaf&#x27;: &lt;scipy.stats._distn_infrastructure.rv_discrete_frozen object at 0x7bbd749849d0&gt;,\n",
              "                                        &#x27;classifier__min_samples_split&#x27;: &lt;scipy.stats._distn_infrastructure.rv_discrete_frozen object at 0x7bbd748e9390&gt;,\n",
              "                                        &#x27;classifier__n_estimators&#x27;: &lt;scipy.stats._distn_infrastructure.rv_discrete_frozen object at 0x7bbd748e9c60&gt;,\n",
              "                                        &#x27;feature_selection__k&#x27;: &lt;scipy.stats._distn_infrastructure.rv_discrete_frozen object at 0x7bbd74987220&gt;},\n",
              "                   random_state=3)</pre><b>In a Jupyter environment, please rerun this cell to show the HTML representation or trust the notebook. <br />On GitHub, the HTML representation is unable to render, please try loading this page with nbviewer.org.</b></div><div class=\"sk-container\" hidden><div class=\"sk-item sk-dashed-wrapped\"><div class=\"sk-label-container\"><div class=\"sk-label sk-toggleable\"><input class=\"sk-toggleable__control sk-hidden--visually\" id=\"sk-estimator-id-6\" type=\"checkbox\" ><label for=\"sk-estimator-id-6\" class=\"sk-toggleable__label sk-toggleable__label-arrow\">RandomizedSearchCV</label><div class=\"sk-toggleable__content\"><pre>RandomizedSearchCV(cv=10, error_score=&#x27;raise&#x27;,\n",
              "                   estimator=Pipeline(steps=[(&#x27;scaler&#x27;, StandardScaler()),\n",
              "                                             (&#x27;feature_selection&#x27;,\n",
              "                                              SelectKBest(k=33)),\n",
              "                                             (&#x27;classifier&#x27;,\n",
              "                                              RandomForestClassifier(n_jobs=-1,\n",
              "                                                                     random_state=2))]),\n",
              "                   n_iter=30,\n",
              "                   param_distributions={&#x27;classifier__bootstrap&#x27;: [True, False],\n",
              "                                        &#x27;classifier__max_depth&#x27;: [None, 36, 15,\n",
              "                                                                  48, 39, 17,\n",
              "                                                                  10, 9, 37, 40,\n",
              "                                                                  28, 49, 31,\n",
              "                                                                  17, 8, 13],\n",
              "                                        &#x27;cl...\n",
              "                                        &#x27;classifier__min_samples_leaf&#x27;: &lt;scipy.stats._distn_infrastructure.rv_discrete_frozen object at 0x7bbd749849d0&gt;,\n",
              "                                        &#x27;classifier__min_samples_split&#x27;: &lt;scipy.stats._distn_infrastructure.rv_discrete_frozen object at 0x7bbd748e9390&gt;,\n",
              "                                        &#x27;classifier__n_estimators&#x27;: &lt;scipy.stats._distn_infrastructure.rv_discrete_frozen object at 0x7bbd748e9c60&gt;,\n",
              "                                        &#x27;feature_selection__k&#x27;: &lt;scipy.stats._distn_infrastructure.rv_discrete_frozen object at 0x7bbd74987220&gt;},\n",
              "                   random_state=3)</pre></div></div></div><div class=\"sk-parallel\"><div class=\"sk-parallel-item\"><div class=\"sk-item\"><div class=\"sk-label-container\"><div class=\"sk-label sk-toggleable\"><input class=\"sk-toggleable__control sk-hidden--visually\" id=\"sk-estimator-id-7\" type=\"checkbox\" ><label for=\"sk-estimator-id-7\" class=\"sk-toggleable__label sk-toggleable__label-arrow\">estimator: Pipeline</label><div class=\"sk-toggleable__content\"><pre>Pipeline(steps=[(&#x27;scaler&#x27;, StandardScaler()),\n",
              "                (&#x27;feature_selection&#x27;, SelectKBest(k=33)),\n",
              "                (&#x27;classifier&#x27;,\n",
              "                 RandomForestClassifier(n_jobs=-1, random_state=2))])</pre></div></div></div><div class=\"sk-serial\"><div class=\"sk-item\"><div class=\"sk-serial\"><div class=\"sk-item\"><div class=\"sk-estimator sk-toggleable\"><input class=\"sk-toggleable__control sk-hidden--visually\" id=\"sk-estimator-id-8\" type=\"checkbox\" ><label for=\"sk-estimator-id-8\" class=\"sk-toggleable__label sk-toggleable__label-arrow\">StandardScaler</label><div class=\"sk-toggleable__content\"><pre>StandardScaler()</pre></div></div></div><div class=\"sk-item\"><div class=\"sk-estimator sk-toggleable\"><input class=\"sk-toggleable__control sk-hidden--visually\" id=\"sk-estimator-id-9\" type=\"checkbox\" ><label for=\"sk-estimator-id-9\" class=\"sk-toggleable__label sk-toggleable__label-arrow\">SelectKBest</label><div class=\"sk-toggleable__content\"><pre>SelectKBest(k=33)</pre></div></div></div><div class=\"sk-item\"><div class=\"sk-estimator sk-toggleable\"><input class=\"sk-toggleable__control sk-hidden--visually\" id=\"sk-estimator-id-10\" type=\"checkbox\" ><label for=\"sk-estimator-id-10\" class=\"sk-toggleable__label sk-toggleable__label-arrow\">RandomForestClassifier</label><div class=\"sk-toggleable__content\"><pre>RandomForestClassifier(n_jobs=-1, random_state=2)</pre></div></div></div></div></div></div></div></div></div></div></div></div>"
            ]
          },
          "metadata": {},
          "execution_count": 79
        }
      ],
      "source": [
        "\n",
        "#fitting the model to the balanced train data\n",
        "search.fit(bX,by)"
      ]
    },
    {
      "cell_type": "code",
      "execution_count": null,
      "metadata": {
        "id": "vLTJ5fbhy8K3",
        "colab": {
          "base_uri": "https://localhost:8080/"
        },
        "outputId": "efc86fb2-aca5-461f-c33a-4b42fb2ec3db"
      },
      "outputs": [
        {
          "data": {
            "text/plain": [
              "0.9346013832237743"
            ]
          },
          "execution_count": 80,
          "metadata": {},
          "output_type": "execute_result"
        }
      ],
      "source": [
        "\n",
        "# best train score\n",
        "search.best_score_"
      ]
    },
    {
      "cell_type": "code",
      "execution_count": null,
      "metadata": {
        "id": "1kUcrrDW1wFm",
        "colab": {
          "base_uri": "https://localhost:8080/"
        },
        "outputId": "5cd6e718-7471-4e36-934b-c4b80c8e696d"
      },
      "outputs": [
        {
          "output_type": "execute_result",
          "data": {
            "text/plain": [
              "0.886326194398682"
            ]
          },
          "metadata": {},
          "execution_count": 81
        }
      ],
      "source": [
        "\n",
        "# evaluating the model's performance on the validation set\n",
        "acc = accuracy_score(search.predict(X_test),y_test)\n",
        "acc"
      ]
    },
    {
      "cell_type": "code",
      "execution_count": null,
      "metadata": {
        "id": "Y5bHGxUX5_eA",
        "colab": {
          "base_uri": "https://localhost:8080/",
          "height": 541
        },
        "outputId": "e1b72041-2983-45eb-b0dc-e5927457b111"
      },
      "outputs": [
        {
          "output_type": "stream",
          "name": "stderr",
          "text": [
            "<ipython-input-82-621e340ad2c4>:4: SettingWithCopyWarning: \n",
            "A value is trying to be set on a copy of a slice from a DataFrame.\n",
            "Try using .loc[row_indexer,col_indexer] = value instead\n",
            "\n",
            "See the caveats in the documentation: https://pandas.pydata.org/pandas-docs/stable/user_guide/indexing.html#returning-a-view-versus-a-copy\n",
            "  subdf['Target'] = submission\n"
          ]
        },
        {
          "output_type": "execute_result",
          "data": {
            "text/plain": [
              "              ID  Target\n",
              "0      ID_000001       1\n",
              "1      ID_000002       1\n",
              "2      ID_000003       1\n",
              "3      ID_000004       1\n",
              "4      ID_000005       1\n",
              "...          ...     ...\n",
              "39995  ID_039996       0\n",
              "39996  ID_039997       0\n",
              "39997  ID_039998       0\n",
              "39998  ID_039999       1\n",
              "39999  ID_040000       1\n",
              "\n",
              "[40000 rows x 2 columns]"
            ],
            "text/html": [
              "\n",
              "  <div id=\"df-fa9e9797-6587-4e55-95d1-a86e407ef08e\" class=\"colab-df-container\">\n",
              "    <div>\n",
              "<style scoped>\n",
              "    .dataframe tbody tr th:only-of-type {\n",
              "        vertical-align: middle;\n",
              "    }\n",
              "\n",
              "    .dataframe tbody tr th {\n",
              "        vertical-align: top;\n",
              "    }\n",
              "\n",
              "    .dataframe thead th {\n",
              "        text-align: right;\n",
              "    }\n",
              "</style>\n",
              "<table border=\"1\" class=\"dataframe\">\n",
              "  <thead>\n",
              "    <tr style=\"text-align: right;\">\n",
              "      <th></th>\n",
              "      <th>ID</th>\n",
              "      <th>Target</th>\n",
              "    </tr>\n",
              "  </thead>\n",
              "  <tbody>\n",
              "    <tr>\n",
              "      <th>0</th>\n",
              "      <td>ID_000001</td>\n",
              "      <td>1</td>\n",
              "    </tr>\n",
              "    <tr>\n",
              "      <th>1</th>\n",
              "      <td>ID_000002</td>\n",
              "      <td>1</td>\n",
              "    </tr>\n",
              "    <tr>\n",
              "      <th>2</th>\n",
              "      <td>ID_000003</td>\n",
              "      <td>1</td>\n",
              "    </tr>\n",
              "    <tr>\n",
              "      <th>3</th>\n",
              "      <td>ID_000004</td>\n",
              "      <td>1</td>\n",
              "    </tr>\n",
              "    <tr>\n",
              "      <th>4</th>\n",
              "      <td>ID_000005</td>\n",
              "      <td>1</td>\n",
              "    </tr>\n",
              "    <tr>\n",
              "      <th>...</th>\n",
              "      <td>...</td>\n",
              "      <td>...</td>\n",
              "    </tr>\n",
              "    <tr>\n",
              "      <th>39995</th>\n",
              "      <td>ID_039996</td>\n",
              "      <td>0</td>\n",
              "    </tr>\n",
              "    <tr>\n",
              "      <th>39996</th>\n",
              "      <td>ID_039997</td>\n",
              "      <td>0</td>\n",
              "    </tr>\n",
              "    <tr>\n",
              "      <th>39997</th>\n",
              "      <td>ID_039998</td>\n",
              "      <td>0</td>\n",
              "    </tr>\n",
              "    <tr>\n",
              "      <th>39998</th>\n",
              "      <td>ID_039999</td>\n",
              "      <td>1</td>\n",
              "    </tr>\n",
              "    <tr>\n",
              "      <th>39999</th>\n",
              "      <td>ID_040000</td>\n",
              "      <td>1</td>\n",
              "    </tr>\n",
              "  </tbody>\n",
              "</table>\n",
              "<p>40000 rows × 2 columns</p>\n",
              "</div>\n",
              "    <div class=\"colab-df-buttons\">\n",
              "\n",
              "  <div class=\"colab-df-container\">\n",
              "    <button class=\"colab-df-convert\" onclick=\"convertToInteractive('df-fa9e9797-6587-4e55-95d1-a86e407ef08e')\"\n",
              "            title=\"Convert this dataframe to an interactive table.\"\n",
              "            style=\"display:none;\">\n",
              "\n",
              "  <svg xmlns=\"http://www.w3.org/2000/svg\" height=\"24px\" viewBox=\"0 -960 960 960\">\n",
              "    <path d=\"M120-120v-720h720v720H120Zm60-500h600v-160H180v160Zm220 220h160v-160H400v160Zm0 220h160v-160H400v160ZM180-400h160v-160H180v160Zm440 0h160v-160H620v160ZM180-180h160v-160H180v160Zm440 0h160v-160H620v160Z\"/>\n",
              "  </svg>\n",
              "    </button>\n",
              "\n",
              "  <style>\n",
              "    .colab-df-container {\n",
              "      display:flex;\n",
              "      gap: 12px;\n",
              "    }\n",
              "\n",
              "    .colab-df-convert {\n",
              "      background-color: #E8F0FE;\n",
              "      border: none;\n",
              "      border-radius: 50%;\n",
              "      cursor: pointer;\n",
              "      display: none;\n",
              "      fill: #1967D2;\n",
              "      height: 32px;\n",
              "      padding: 0 0 0 0;\n",
              "      width: 32px;\n",
              "    }\n",
              "\n",
              "    .colab-df-convert:hover {\n",
              "      background-color: #E2EBFA;\n",
              "      box-shadow: 0px 1px 2px rgba(60, 64, 67, 0.3), 0px 1px 3px 1px rgba(60, 64, 67, 0.15);\n",
              "      fill: #174EA6;\n",
              "    }\n",
              "\n",
              "    .colab-df-buttons div {\n",
              "      margin-bottom: 4px;\n",
              "    }\n",
              "\n",
              "    [theme=dark] .colab-df-convert {\n",
              "      background-color: #3B4455;\n",
              "      fill: #D2E3FC;\n",
              "    }\n",
              "\n",
              "    [theme=dark] .colab-df-convert:hover {\n",
              "      background-color: #434B5C;\n",
              "      box-shadow: 0px 1px 3px 1px rgba(0, 0, 0, 0.15);\n",
              "      filter: drop-shadow(0px 1px 2px rgba(0, 0, 0, 0.3));\n",
              "      fill: #FFFFFF;\n",
              "    }\n",
              "  </style>\n",
              "\n",
              "    <script>\n",
              "      const buttonEl =\n",
              "        document.querySelector('#df-fa9e9797-6587-4e55-95d1-a86e407ef08e button.colab-df-convert');\n",
              "      buttonEl.style.display =\n",
              "        google.colab.kernel.accessAllowed ? 'block' : 'none';\n",
              "\n",
              "      async function convertToInteractive(key) {\n",
              "        const element = document.querySelector('#df-fa9e9797-6587-4e55-95d1-a86e407ef08e');\n",
              "        const dataTable =\n",
              "          await google.colab.kernel.invokeFunction('convertToInteractive',\n",
              "                                                    [key], {});\n",
              "        if (!dataTable) return;\n",
              "\n",
              "        const docLinkHtml = 'Like what you see? Visit the ' +\n",
              "          '<a target=\"_blank\" href=https://colab.research.google.com/notebooks/data_table.ipynb>data table notebook</a>'\n",
              "          + ' to learn more about interactive tables.';\n",
              "        element.innerHTML = '';\n",
              "        dataTable['output_type'] = 'display_data';\n",
              "        await google.colab.output.renderOutput(dataTable, element);\n",
              "        const docLink = document.createElement('div');\n",
              "        docLink.innerHTML = docLinkHtml;\n",
              "        element.appendChild(docLink);\n",
              "      }\n",
              "    </script>\n",
              "  </div>\n",
              "\n",
              "\n",
              "<div id=\"df-15a26c6c-6260-4413-96df-675121fbe4cf\">\n",
              "  <button class=\"colab-df-quickchart\" onclick=\"quickchart('df-15a26c6c-6260-4413-96df-675121fbe4cf')\"\n",
              "            title=\"Suggest charts.\"\n",
              "            style=\"display:none;\">\n",
              "\n",
              "<svg xmlns=\"http://www.w3.org/2000/svg\" height=\"24px\"viewBox=\"0 0 24 24\"\n",
              "     width=\"24px\">\n",
              "    <g>\n",
              "        <path d=\"M19 3H5c-1.1 0-2 .9-2 2v14c0 1.1.9 2 2 2h14c1.1 0 2-.9 2-2V5c0-1.1-.9-2-2-2zM9 17H7v-7h2v7zm4 0h-2V7h2v10zm4 0h-2v-4h2v4z\"/>\n",
              "    </g>\n",
              "</svg>\n",
              "  </button>\n",
              "\n",
              "<style>\n",
              "  .colab-df-quickchart {\n",
              "      --bg-color: #E8F0FE;\n",
              "      --fill-color: #1967D2;\n",
              "      --hover-bg-color: #E2EBFA;\n",
              "      --hover-fill-color: #174EA6;\n",
              "      --disabled-fill-color: #AAA;\n",
              "      --disabled-bg-color: #DDD;\n",
              "  }\n",
              "\n",
              "  [theme=dark] .colab-df-quickchart {\n",
              "      --bg-color: #3B4455;\n",
              "      --fill-color: #D2E3FC;\n",
              "      --hover-bg-color: #434B5C;\n",
              "      --hover-fill-color: #FFFFFF;\n",
              "      --disabled-bg-color: #3B4455;\n",
              "      --disabled-fill-color: #666;\n",
              "  }\n",
              "\n",
              "  .colab-df-quickchart {\n",
              "    background-color: var(--bg-color);\n",
              "    border: none;\n",
              "    border-radius: 50%;\n",
              "    cursor: pointer;\n",
              "    display: none;\n",
              "    fill: var(--fill-color);\n",
              "    height: 32px;\n",
              "    padding: 0;\n",
              "    width: 32px;\n",
              "  }\n",
              "\n",
              "  .colab-df-quickchart:hover {\n",
              "    background-color: var(--hover-bg-color);\n",
              "    box-shadow: 0 1px 2px rgba(60, 64, 67, 0.3), 0 1px 3px 1px rgba(60, 64, 67, 0.15);\n",
              "    fill: var(--button-hover-fill-color);\n",
              "  }\n",
              "\n",
              "  .colab-df-quickchart-complete:disabled,\n",
              "  .colab-df-quickchart-complete:disabled:hover {\n",
              "    background-color: var(--disabled-bg-color);\n",
              "    fill: var(--disabled-fill-color);\n",
              "    box-shadow: none;\n",
              "  }\n",
              "\n",
              "  .colab-df-spinner {\n",
              "    border: 2px solid var(--fill-color);\n",
              "    border-color: transparent;\n",
              "    border-bottom-color: var(--fill-color);\n",
              "    animation:\n",
              "      spin 1s steps(1) infinite;\n",
              "  }\n",
              "\n",
              "  @keyframes spin {\n",
              "    0% {\n",
              "      border-color: transparent;\n",
              "      border-bottom-color: var(--fill-color);\n",
              "      border-left-color: var(--fill-color);\n",
              "    }\n",
              "    20% {\n",
              "      border-color: transparent;\n",
              "      border-left-color: var(--fill-color);\n",
              "      border-top-color: var(--fill-color);\n",
              "    }\n",
              "    30% {\n",
              "      border-color: transparent;\n",
              "      border-left-color: var(--fill-color);\n",
              "      border-top-color: var(--fill-color);\n",
              "      border-right-color: var(--fill-color);\n",
              "    }\n",
              "    40% {\n",
              "      border-color: transparent;\n",
              "      border-right-color: var(--fill-color);\n",
              "      border-top-color: var(--fill-color);\n",
              "    }\n",
              "    60% {\n",
              "      border-color: transparent;\n",
              "      border-right-color: var(--fill-color);\n",
              "    }\n",
              "    80% {\n",
              "      border-color: transparent;\n",
              "      border-right-color: var(--fill-color);\n",
              "      border-bottom-color: var(--fill-color);\n",
              "    }\n",
              "    90% {\n",
              "      border-color: transparent;\n",
              "      border-bottom-color: var(--fill-color);\n",
              "    }\n",
              "  }\n",
              "</style>\n",
              "\n",
              "  <script>\n",
              "    async function quickchart(key) {\n",
              "      const quickchartButtonEl =\n",
              "        document.querySelector('#' + key + ' button');\n",
              "      quickchartButtonEl.disabled = true;  // To prevent multiple clicks.\n",
              "      quickchartButtonEl.classList.add('colab-df-spinner');\n",
              "      try {\n",
              "        const charts = await google.colab.kernel.invokeFunction(\n",
              "            'suggestCharts', [key], {});\n",
              "      } catch (error) {\n",
              "        console.error('Error during call to suggestCharts:', error);\n",
              "      }\n",
              "      quickchartButtonEl.classList.remove('colab-df-spinner');\n",
              "      quickchartButtonEl.classList.add('colab-df-quickchart-complete');\n",
              "    }\n",
              "    (() => {\n",
              "      let quickchartButtonEl =\n",
              "        document.querySelector('#df-15a26c6c-6260-4413-96df-675121fbe4cf button');\n",
              "      quickchartButtonEl.style.display =\n",
              "        google.colab.kernel.accessAllowed ? 'block' : 'none';\n",
              "    })();\n",
              "  </script>\n",
              "</div>\n",
              "    </div>\n",
              "  </div>\n"
            ]
          },
          "metadata": {},
          "execution_count": 82
        }
      ],
      "source": [
        "\n",
        "#predicting on the Zindi test data and presenting it in a dataframe\n",
        "submission = search.predict(final_test[X.columns])\n",
        "subdf = test[['ID']]\n",
        "subdf['Target'] = submission\n",
        "subdf"
      ]
    },
    {
      "cell_type": "code",
      "execution_count": null,
      "metadata": {
        "id": "KyIZcdH06MlJ"
      },
      "outputs": [],
      "source": [
        "\n",
        "#Exporting the submission dataframe to a csv document\n",
        "subdf.to_csv('Submission.csv',index=False)"
      ]
    }
  ],
  "metadata": {
    "colab": {
      "provenance": []
    },
    "kernelspec": {
      "display_name": "Python 3",
      "name": "python3"
    },
    "language_info": {
      "name": "python"
    }
  },
  "nbformat": 4,
  "nbformat_minor": 0
}